{
 "cells": [
  {
   "cell_type": "code",
   "execution_count": 19,
   "id": "e8a16dbb-7687-4315-982d-77bcbae7e4bd",
   "metadata": {},
   "outputs": [],
   "source": [
    "from sklearn import linear_model\n",
    "from sklearn.preprocessing import StandardScaler\n",
    "import pandas as pd\n",
    "import matplotlib.pyplot as plt\n",
    "import numpy as np"
   ]
  },
  {
   "cell_type": "code",
   "execution_count": 30,
   "id": "6d328247-133e-4e26-9d02-e2a5cd1b8ff7",
   "metadata": {},
   "outputs": [
    {
     "name": "stdout",
     "output_type": "stream",
     "text": [
      "(20433, 6)\n",
      "(20433, 1)\n"
     ]
    }
   ],
   "source": [
    "house_price = pd.read_csv('DataSet/Housing_price.csv')\n",
    "house_price_cleaned = house_price.dropna()\n",
    "X_train = house_price_cleaned.iloc[:,2:-2]\n",
    "Y_train = house_price_cleaned[\"median_house_value\"]\n",
    "X_column = X_train.columns.tolist()\n",
    "\n",
    "X_train = X_train.to_numpy()\n",
    "Y_train = Y_train.to_numpy().reshape(-1,1)\n",
    "\n",
    "scaler_X = StandardScaler()\n",
    "scaler_Y = StandardScaler()\n",
    "\n",
    "X_norm = scaler_X.fit_transform(X_train)\n",
    "Y_norm = scaler_Y.fit_transform(Y_train)\n",
    "\n",
    "print(X_train.shape)\n",
    "print(Y_train.shape)"
   ]
  },
  {
   "cell_type": "code",
   "execution_count": 31,
   "id": "b7a46914-8299-408c-8a53-f434c2a42545",
   "metadata": {},
   "outputs": [
    {
     "name": "stdout",
     "output_type": "stream",
     "text": [
      "[[ 1.92048309]\n",
      " [ 1.83381427]\n",
      " [ 1.61304285]\n",
      " ...\n",
      " [-1.01256217]\n",
      " [-0.93563292]\n",
      " [-0.73164172]]\n"
     ]
    }
   ],
   "source": [
    "reg = linear_model.LinearRegression()\n",
    "reg.fit(X_norm, Y_norm)\n",
    "weight = reg.coef_\n",
    "bias = reg.intercept_\n",
    "Y_pred = reg.predict(X_norm)"
   ]
  },
  {
   "cell_type": "code",
   "execution_count": 33,
   "id": "2decdf15-4f1c-4794-bd02-68f04cbfa5d2",
   "metadata": {},
   "outputs": [
    {
     "name": "stdout",
     "output_type": "stream",
     "text": [
      "Percentage of predictions within the threshold: 7.76%\n"
     ]
    }
   ],
   "source": [
    "def check_prediction_accuracy(X, Y, model, threshold=0.1):\n",
    "    \"\"\"\n",
    "    Checks the percentage of predictions that are within a certain threshold of the actual values.\n",
    "    \n",
    "    Parameters:\n",
    "    - X: Input features (numpy array)\n",
    "    - Y: Actual output values (numpy array)\n",
    "    - w: Weights of the model (numpy array)\n",
    "    - b: Bias of the model (float)\n",
    "    - threshold: Percentage threshold for accuracy (default is 10% or 0.1)\n",
    "    \n",
    "    Returns:\n",
    "    - accuracy_percentage: Percentage of predictions within the threshold\n",
    "    \"\"\"\n",
    "    # Predict using the model\n",
    "    predictions = model.predict(X)\n",
    "    \n",
    "    # Calculate the absolute differences\n",
    "    differences = np.abs(predictions - Y)\n",
    "    \n",
    "    # Determine the threshold value\n",
    "    threshold_value = threshold * np.abs(Y)\n",
    "    \n",
    "    # Count the number of predictions within the threshold\n",
    "    within_threshold = np.sum(differences <= threshold_value)\n",
    "    \n",
    "    # Calculate the accuracy percentage\n",
    "    accuracy_percentage = (within_threshold / len(Y)) * 100\n",
    "    \n",
    "    return accuracy_percentage\n",
    "\n",
    "# Example usage:\n",
    "accuracy = check_prediction_accuracy(X_norm, Y_norm, reg, threshold=0.1)  # 10% threshold\n",
    "print(f\"Percentage of predictions within the threshold: {accuracy:.2f}%\")\n"
   ]
  },
  {
   "cell_type": "code",
   "execution_count": null,
   "id": "9bbcb9ff-71ec-40b2-80c7-79aed9dfefa8",
   "metadata": {},
   "outputs": [],
   "source": []
  }
 ],
 "metadata": {
  "kernelspec": {
   "display_name": "Python 3 (ipykernel)",
   "language": "python",
   "name": "python3"
  },
  "language_info": {
   "codemirror_mode": {
    "name": "ipython",
    "version": 3
   },
   "file_extension": ".py",
   "mimetype": "text/x-python",
   "name": "python",
   "nbconvert_exporter": "python",
   "pygments_lexer": "ipython3",
   "version": "3.12.6"
  }
 },
 "nbformat": 4,
 "nbformat_minor": 5
}
